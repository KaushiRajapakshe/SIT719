{
 "cells": [
  {
   "cell_type": "markdown",
   "id": "7ebd7d9e-51dc-4dfc-91d7-e36f3e36eac3",
   "metadata": {},
   "source": [
    "# 223681886 - Kaushalya Rajapaksha - 3.1P - SIT725\n",
    "\n",
    "Scikit-learn embodies the essence of machine learning in Python, providing intuitive and effective tools for predictive data analysis.\n",
    "Accessible to all users, its versatility spans diverse applications, leveraging the robust foundations of NumPy, SciPy, and matplotlib.\n",
    "As an open-source platform under the BSD license, it ensures both accessibility and commercial viability.\n",
    "\n",
    "![Image alt text](/Users/kaushirajapakshe/Documents/Deakin/MSC/Year 1/T1/SIT719/OnTrack/SIT719/Scikit-Learn-Python.JPG \"Scikit-Learn-Python\")"
   ]
  },
  {
   "cell_type": "markdown",
   "id": "3e4f3aca-9237-433a-a549-190910e48cf5",
   "metadata": {},
   "source": [
    "# Loading datasets\n",
    "Scikit-learn facilitates model development by providing two sample datasets, sparing users the complexities of sourcing external data.\n",
    "This feature, available through the sklearn.datasets module, streamlines the initiation of machine learning projects, eliminating the need for laborious dataset acquisition processes.\n",
    "\n",
    "**sklearn preprocessing** helps to transformer classes to change raw feature vectors. <br/>\n",
    "using **panda library** able to get a dataframe with rows and columns out of the diabetes dataset. "
   ]
  },
  {
   "cell_type": "code",
   "execution_count": 87,
   "id": "0cdc1f1b-b22d-4853-8463-54e9f1bf6fb3",
   "metadata": {},
   "outputs": [],
   "source": [
    "from sklearn import preprocessing\n",
    "import pandas as pd"
   ]
  },
  {
   "cell_type": "markdown",
   "id": "4de0e273-e881-4a1a-9e1c-e1b8c1794269",
   "metadata": {},
   "source": [
    "## Example 01\n",
    "import **diabetes dataset** from the sklearn library.<br/>\n",
    "**sklearn datasets** are pre-processed and ready to use and **load the diabetes** dataset.<br/>\n",
    "this data set available with information on 442 patient"
   ]
  },
  {
   "cell_type": "code",
   "execution_count": 88,
   "id": "29276483-e465-4947-ba0e-d76f5abd98e8",
   "metadata": {},
   "outputs": [],
   "source": [
    "from sklearn.datasets import load_diabetes\n",
    "diabetes = load_diabetes()"
   ]
  },
  {
   "cell_type": "markdown",
   "id": "456d6294-7795-45dc-a517-dac662b86591",
   "metadata": {},
   "source": [
    "## Example 02\n",
    "import **iris dataset** from the sklearn library.<br/>\n",
    "this data set available with information on 150 measurements"
   ]
  },
  {
   "cell_type": "code",
   "execution_count": 89,
   "id": "2eab91df-4194-4dfb-a52b-fb14c2d5f483",
   "metadata": {},
   "outputs": [],
   "source": [
    "from sklearn.datasets import load_iris\n",
    "iris = load_iris()"
   ]
  },
  {
   "cell_type": "markdown",
   "id": "e10776ee-ded3-46bd-a7ea-37aa5ee404c7",
   "metadata": {},
   "source": [
    "# Show Information\n",
    "In here user can get the idea about dataset information, values, shape and lenth\n",
    "## Example 01"
   ]
  },
  {
   "cell_type": "code",
   "execution_count": 90,
   "id": "e3671aa8-9586-41c8-b289-9ae8a9ee4a44",
   "metadata": {},
   "outputs": [
    {
     "name": "stdout",
     "output_type": "stream",
     "text": [
      ".. _diabetes_dataset:\n",
      "\n",
      "Diabetes dataset\n",
      "----------------\n",
      "\n",
      "Ten baseline variables, age, sex, body mass index, average blood\n",
      "pressure, and six blood serum measurements were obtained for each of n =\n",
      "442 diabetes patients, as well as the response of interest, a\n",
      "quantitative measure of disease progression one year after baseline.\n",
      "\n",
      "**Data Set Characteristics:**\n",
      "\n",
      "  :Number of Instances: 442\n",
      "\n",
      "  :Number of Attributes: First 10 columns are numeric predictive values\n",
      "\n",
      "  :Target: Column 11 is a quantitative measure of disease progression one year after baseline\n",
      "\n",
      "  :Attribute Information:\n",
      "      - age     age in years\n",
      "      - sex\n",
      "      - bmi     body mass index\n",
      "      - bp      average blood pressure\n",
      "      - s1      tc, total serum cholesterol\n",
      "      - s2      ldl, low-density lipoproteins\n",
      "      - s3      hdl, high-density lipoproteins\n",
      "      - s4      tch, total cholesterol / HDL\n",
      "      - s5      ltg, possibly log of serum triglycerides level\n",
      "      - s6      glu, blood sugar level\n",
      "\n",
      "Note: Each of these 10 feature variables have been mean centered and scaled by the standard deviation times the square root of `n_samples` (i.e. the sum of squares of each column totals 1).\n",
      "\n",
      "Source URL:\n",
      "https://www4.stat.ncsu.edu/~boos/var.select/diabetes.html\n",
      "\n",
      "For more information see:\n",
      "Bradley Efron, Trevor Hastie, Iain Johnstone and Robert Tibshirani (2004) \"Least Angle Regression,\" Annals of Statistics (with discussion), 407-499.\n",
      "(https://web.stanford.edu/~hastie/Papers/LARS/LeastAngle_2002.pdf)\n",
      "\n"
     ]
    }
   ],
   "source": [
    "print(diabetes.DESCR)"
   ]
  },
  {
   "cell_type": "markdown",
   "id": "7ba9937e-325b-48d9-9be7-19ec40affd18",
   "metadata": {},
   "source": [
    "create the **dataframe** from diabetes dataset and add **columns name** to dataset and add diabetes **dataset target** as column of **measure**<br/>\n",
    "**show the first 10 rows** detailed information of each and every attributes of the dataset"
   ]
  },
  {
   "cell_type": "markdown",
   "id": "f3ed8be2-9715-4c48-b2db-6c900fe0d794",
   "metadata": {},
   "source": [
    "*DESCR* can display the description of dataset, shape, number of rows, columns and attribute information."
   ]
  },
  {
   "cell_type": "code",
   "execution_count": 91,
   "id": "cc7a563d-d872-4611-9ce6-2bb4127ec2b7",
   "metadata": {},
   "outputs": [
    {
     "data": {
      "text/html": [
       "<div>\n",
       "<style scoped>\n",
       "    .dataframe tbody tr th:only-of-type {\n",
       "        vertical-align: middle;\n",
       "    }\n",
       "\n",
       "    .dataframe tbody tr th {\n",
       "        vertical-align: top;\n",
       "    }\n",
       "\n",
       "    .dataframe thead th {\n",
       "        text-align: right;\n",
       "    }\n",
       "</style>\n",
       "<table border=\"1\" class=\"dataframe\">\n",
       "  <thead>\n",
       "    <tr style=\"text-align: right;\">\n",
       "      <th></th>\n",
       "      <th>age</th>\n",
       "      <th>sex</th>\n",
       "      <th>bmi</th>\n",
       "      <th>bp</th>\n",
       "      <th>s1</th>\n",
       "      <th>s2</th>\n",
       "      <th>s3</th>\n",
       "      <th>s4</th>\n",
       "      <th>s5</th>\n",
       "      <th>s6</th>\n",
       "      <th>measure</th>\n",
       "    </tr>\n",
       "  </thead>\n",
       "  <tbody>\n",
       "    <tr>\n",
       "      <th>0</th>\n",
       "      <td>0.038076</td>\n",
       "      <td>0.050680</td>\n",
       "      <td>0.061696</td>\n",
       "      <td>0.021872</td>\n",
       "      <td>-0.044223</td>\n",
       "      <td>-0.034821</td>\n",
       "      <td>-0.043401</td>\n",
       "      <td>-0.002592</td>\n",
       "      <td>0.019907</td>\n",
       "      <td>-0.017646</td>\n",
       "      <td>151.0</td>\n",
       "    </tr>\n",
       "    <tr>\n",
       "      <th>1</th>\n",
       "      <td>-0.001882</td>\n",
       "      <td>-0.044642</td>\n",
       "      <td>-0.051474</td>\n",
       "      <td>-0.026328</td>\n",
       "      <td>-0.008449</td>\n",
       "      <td>-0.019163</td>\n",
       "      <td>0.074412</td>\n",
       "      <td>-0.039493</td>\n",
       "      <td>-0.068332</td>\n",
       "      <td>-0.092204</td>\n",
       "      <td>75.0</td>\n",
       "    </tr>\n",
       "    <tr>\n",
       "      <th>2</th>\n",
       "      <td>0.085299</td>\n",
       "      <td>0.050680</td>\n",
       "      <td>0.044451</td>\n",
       "      <td>-0.005670</td>\n",
       "      <td>-0.045599</td>\n",
       "      <td>-0.034194</td>\n",
       "      <td>-0.032356</td>\n",
       "      <td>-0.002592</td>\n",
       "      <td>0.002861</td>\n",
       "      <td>-0.025930</td>\n",
       "      <td>141.0</td>\n",
       "    </tr>\n",
       "    <tr>\n",
       "      <th>3</th>\n",
       "      <td>-0.089063</td>\n",
       "      <td>-0.044642</td>\n",
       "      <td>-0.011595</td>\n",
       "      <td>-0.036656</td>\n",
       "      <td>0.012191</td>\n",
       "      <td>0.024991</td>\n",
       "      <td>-0.036038</td>\n",
       "      <td>0.034309</td>\n",
       "      <td>0.022688</td>\n",
       "      <td>-0.009362</td>\n",
       "      <td>206.0</td>\n",
       "    </tr>\n",
       "    <tr>\n",
       "      <th>4</th>\n",
       "      <td>0.005383</td>\n",
       "      <td>-0.044642</td>\n",
       "      <td>-0.036385</td>\n",
       "      <td>0.021872</td>\n",
       "      <td>0.003935</td>\n",
       "      <td>0.015596</td>\n",
       "      <td>0.008142</td>\n",
       "      <td>-0.002592</td>\n",
       "      <td>-0.031988</td>\n",
       "      <td>-0.046641</td>\n",
       "      <td>135.0</td>\n",
       "    </tr>\n",
       "    <tr>\n",
       "      <th>5</th>\n",
       "      <td>-0.092695</td>\n",
       "      <td>-0.044642</td>\n",
       "      <td>-0.040696</td>\n",
       "      <td>-0.019442</td>\n",
       "      <td>-0.068991</td>\n",
       "      <td>-0.079288</td>\n",
       "      <td>0.041277</td>\n",
       "      <td>-0.076395</td>\n",
       "      <td>-0.041176</td>\n",
       "      <td>-0.096346</td>\n",
       "      <td>97.0</td>\n",
       "    </tr>\n",
       "    <tr>\n",
       "      <th>6</th>\n",
       "      <td>-0.045472</td>\n",
       "      <td>0.050680</td>\n",
       "      <td>-0.047163</td>\n",
       "      <td>-0.015999</td>\n",
       "      <td>-0.040096</td>\n",
       "      <td>-0.024800</td>\n",
       "      <td>0.000779</td>\n",
       "      <td>-0.039493</td>\n",
       "      <td>-0.062917</td>\n",
       "      <td>-0.038357</td>\n",
       "      <td>138.0</td>\n",
       "    </tr>\n",
       "    <tr>\n",
       "      <th>7</th>\n",
       "      <td>0.063504</td>\n",
       "      <td>0.050680</td>\n",
       "      <td>-0.001895</td>\n",
       "      <td>0.066629</td>\n",
       "      <td>0.090620</td>\n",
       "      <td>0.108914</td>\n",
       "      <td>0.022869</td>\n",
       "      <td>0.017703</td>\n",
       "      <td>-0.035816</td>\n",
       "      <td>0.003064</td>\n",
       "      <td>63.0</td>\n",
       "    </tr>\n",
       "    <tr>\n",
       "      <th>8</th>\n",
       "      <td>0.041708</td>\n",
       "      <td>0.050680</td>\n",
       "      <td>0.061696</td>\n",
       "      <td>-0.040099</td>\n",
       "      <td>-0.013953</td>\n",
       "      <td>0.006202</td>\n",
       "      <td>-0.028674</td>\n",
       "      <td>-0.002592</td>\n",
       "      <td>-0.014960</td>\n",
       "      <td>0.011349</td>\n",
       "      <td>110.0</td>\n",
       "    </tr>\n",
       "    <tr>\n",
       "      <th>9</th>\n",
       "      <td>-0.070900</td>\n",
       "      <td>-0.044642</td>\n",
       "      <td>0.039062</td>\n",
       "      <td>-0.033213</td>\n",
       "      <td>-0.012577</td>\n",
       "      <td>-0.034508</td>\n",
       "      <td>-0.024993</td>\n",
       "      <td>-0.002592</td>\n",
       "      <td>0.067737</td>\n",
       "      <td>-0.013504</td>\n",
       "      <td>310.0</td>\n",
       "    </tr>\n",
       "  </tbody>\n",
       "</table>\n",
       "</div>"
      ],
      "text/plain": [
       "        age       sex       bmi        bp        s1        s2        s3  \\\n",
       "0  0.038076  0.050680  0.061696  0.021872 -0.044223 -0.034821 -0.043401   \n",
       "1 -0.001882 -0.044642 -0.051474 -0.026328 -0.008449 -0.019163  0.074412   \n",
       "2  0.085299  0.050680  0.044451 -0.005670 -0.045599 -0.034194 -0.032356   \n",
       "3 -0.089063 -0.044642 -0.011595 -0.036656  0.012191  0.024991 -0.036038   \n",
       "4  0.005383 -0.044642 -0.036385  0.021872  0.003935  0.015596  0.008142   \n",
       "5 -0.092695 -0.044642 -0.040696 -0.019442 -0.068991 -0.079288  0.041277   \n",
       "6 -0.045472  0.050680 -0.047163 -0.015999 -0.040096 -0.024800  0.000779   \n",
       "7  0.063504  0.050680 -0.001895  0.066629  0.090620  0.108914  0.022869   \n",
       "8  0.041708  0.050680  0.061696 -0.040099 -0.013953  0.006202 -0.028674   \n",
       "9 -0.070900 -0.044642  0.039062 -0.033213 -0.012577 -0.034508 -0.024993   \n",
       "\n",
       "         s4        s5        s6  measure  \n",
       "0 -0.002592  0.019907 -0.017646    151.0  \n",
       "1 -0.039493 -0.068332 -0.092204     75.0  \n",
       "2 -0.002592  0.002861 -0.025930    141.0  \n",
       "3  0.034309  0.022688 -0.009362    206.0  \n",
       "4 -0.002592 -0.031988 -0.046641    135.0  \n",
       "5 -0.076395 -0.041176 -0.096346     97.0  \n",
       "6 -0.039493 -0.062917 -0.038357    138.0  \n",
       "7  0.017703 -0.035816  0.003064     63.0  \n",
       "8 -0.002592 -0.014960  0.011349    110.0  \n",
       "9 -0.002592  0.067737 -0.013504    310.0  "
      ]
     },
     "execution_count": 91,
     "metadata": {},
     "output_type": "execute_result"
    }
   ],
   "source": [
    "df = pd.DataFrame(diabetes.data, columns = diabetes.feature_names) \n",
    "df['measure'] = diabetes.target\n",
    "df.head(10)"
   ]
  },
  {
   "cell_type": "markdown",
   "id": "f0781c25-0530-4f45-8535-29a68fd4f785",
   "metadata": {},
   "source": [
    "check for existing null values"
   ]
  },
  {
   "cell_type": "code",
   "execution_count": 92,
   "id": "eea42723-6da2-4da9-b120-8d23e5c71f53",
   "metadata": {},
   "outputs": [
    {
     "name": "stdout",
     "output_type": "stream",
     "text": [
      "0\n"
     ]
    }
   ],
   "source": [
    "total_null_values = sum(df.isnull().sum())\n",
    "print(total_null_values)"
   ]
  },
  {
   "cell_type": "markdown",
   "id": "7fdd7e5b-df0a-4822-9e2c-ee4e3ef5ed0b",
   "metadata": {},
   "source": [
    "count the number of zero values in each column\n"
   ]
  },
  {
   "cell_type": "code",
   "execution_count": 93,
   "id": "afb71188-f6e0-4030-8112-0ae4d3f9e5b5",
   "metadata": {},
   "outputs": [
    {
     "name": "stdout",
     "output_type": "stream",
     "text": [
      "age        0\n",
      "sex        0\n",
      "bmi        0\n",
      "bp         0\n",
      "s1         0\n",
      "s2         0\n",
      "s3         0\n",
      "s4         0\n",
      "s5         0\n",
      "s6         0\n",
      "measure    0\n",
      "dtype: int64\n"
     ]
    }
   ],
   "source": [
    "print((df[['age','sex','bmi','bp', 's1', 's2', 's3', 's4', 's5', 's6', 'measure']] == 0).sum())"
   ]
  },
  {
   "cell_type": "markdown",
   "id": "c8206988-6b75-446e-876a-0eef0d328c58",
   "metadata": {},
   "source": [
    "## Example 02"
   ]
  },
  {
   "cell_type": "code",
   "execution_count": 94,
   "id": "890eb006-29aa-4b85-a179-e6574527b458",
   "metadata": {},
   "outputs": [
    {
     "name": "stdout",
     "output_type": "stream",
     "text": [
      ".. _iris_dataset:\n",
      "\n",
      "Iris plants dataset\n",
      "--------------------\n",
      "\n",
      "**Data Set Characteristics:**\n",
      "\n",
      "    :Number of Instances: 150 (50 in each of three classes)\n",
      "    :Number of Attributes: 4 numeric, predictive attributes and the class\n",
      "    :Attribute Information:\n",
      "        - sepal length in cm\n",
      "        - sepal width in cm\n",
      "        - petal length in cm\n",
      "        - petal width in cm\n",
      "        - class:\n",
      "                - Iris-Setosa\n",
      "                - Iris-Versicolour\n",
      "                - Iris-Virginica\n",
      "                \n",
      "    :Summary Statistics:\n",
      "\n",
      "    ============== ==== ==== ======= ===== ====================\n",
      "                    Min  Max   Mean    SD   Class Correlation\n",
      "    ============== ==== ==== ======= ===== ====================\n",
      "    sepal length:   4.3  7.9   5.84   0.83    0.7826\n",
      "    sepal width:    2.0  4.4   3.05   0.43   -0.4194\n",
      "    petal length:   1.0  6.9   3.76   1.76    0.9490  (high!)\n",
      "    petal width:    0.1  2.5   1.20   0.76    0.9565  (high!)\n",
      "    ============== ==== ==== ======= ===== ====================\n",
      "\n",
      "    :Missing Attribute Values: None\n",
      "    :Class Distribution: 33.3% for each of 3 classes.\n",
      "    :Creator: R.A. Fisher\n",
      "    :Donor: Michael Marshall (MARSHALL%PLU@io.arc.nasa.gov)\n",
      "    :Date: July, 1988\n",
      "\n",
      "The famous Iris database, first used by Sir R.A. Fisher. The dataset is taken\n",
      "from Fisher's paper. Note that it's the same as in R, but not as in the UCI\n",
      "Machine Learning Repository, which has two wrong data points.\n",
      "\n",
      "This is perhaps the best known database to be found in the\n",
      "pattern recognition literature.  Fisher's paper is a classic in the field and\n",
      "is referenced frequently to this day.  (See Duda & Hart, for example.)  The\n",
      "data set contains 3 classes of 50 instances each, where each class refers to a\n",
      "type of iris plant.  One class is linearly separable from the other 2; the\n",
      "latter are NOT linearly separable from each other.\n",
      "\n",
      ".. topic:: References\n",
      "\n",
      "   - Fisher, R.A. \"The use of multiple measurements in taxonomic problems\"\n",
      "     Annual Eugenics, 7, Part II, 179-188 (1936); also in \"Contributions to\n",
      "     Mathematical Statistics\" (John Wiley, NY, 1950).\n",
      "   - Duda, R.O., & Hart, P.E. (1973) Pattern Classification and Scene Analysis.\n",
      "     (Q327.D83) John Wiley & Sons.  ISBN 0-471-22361-1.  See page 218.\n",
      "   - Dasarathy, B.V. (1980) \"Nosing Around the Neighborhood: A New System\n",
      "     Structure and Classification Rule for Recognition in Partially Exposed\n",
      "     Environments\".  IEEE Transactions on Pattern Analysis and Machine\n",
      "     Intelligence, Vol. PAMI-2, No. 1, 67-71.\n",
      "   - Gates, G.W. (1972) \"The Reduced Nearest Neighbor Rule\".  IEEE Transactions\n",
      "     on Information Theory, May 1972, 431-433.\n",
      "   - See also: 1988 MLC Proceedings, 54-64.  Cheeseman et al\"s AUTOCLASS II\n",
      "     conceptual clustering system finds 3 classes in the data.\n",
      "   - Many, many more ...\n"
     ]
    }
   ],
   "source": [
    "print(iris.DESCR)"
   ]
  },
  {
   "cell_type": "markdown",
   "id": "7a1eef3e-00d2-40aa-981e-0aafb1c82346",
   "metadata": {},
   "source": [
    "create the **dataframe** from iris dataset and add columns name to dataset <br/>\n",
    "**show** the first 10 rows detailed information of each and every attributes of the dataset"
   ]
  },
  {
   "cell_type": "code",
   "execution_count": 95,
   "id": "71b98c39-7b9d-41a0-a1e1-df96ea28da5e",
   "metadata": {},
   "outputs": [
    {
     "data": {
      "text/html": [
       "<div>\n",
       "<style scoped>\n",
       "    .dataframe tbody tr th:only-of-type {\n",
       "        vertical-align: middle;\n",
       "    }\n",
       "\n",
       "    .dataframe tbody tr th {\n",
       "        vertical-align: top;\n",
       "    }\n",
       "\n",
       "    .dataframe thead th {\n",
       "        text-align: right;\n",
       "    }\n",
       "</style>\n",
       "<table border=\"1\" class=\"dataframe\">\n",
       "  <thead>\n",
       "    <tr style=\"text-align: right;\">\n",
       "      <th></th>\n",
       "      <th>sepal length (cm)</th>\n",
       "      <th>sepal width (cm)</th>\n",
       "      <th>petal length (cm)</th>\n",
       "      <th>petal width (cm)</th>\n",
       "      <th>measure</th>\n",
       "    </tr>\n",
       "  </thead>\n",
       "  <tbody>\n",
       "    <tr>\n",
       "      <th>0</th>\n",
       "      <td>5.1</td>\n",
       "      <td>3.5</td>\n",
       "      <td>1.4</td>\n",
       "      <td>0.2</td>\n",
       "      <td>0</td>\n",
       "    </tr>\n",
       "    <tr>\n",
       "      <th>1</th>\n",
       "      <td>4.9</td>\n",
       "      <td>3.0</td>\n",
       "      <td>1.4</td>\n",
       "      <td>0.2</td>\n",
       "      <td>0</td>\n",
       "    </tr>\n",
       "    <tr>\n",
       "      <th>2</th>\n",
       "      <td>4.7</td>\n",
       "      <td>3.2</td>\n",
       "      <td>1.3</td>\n",
       "      <td>0.2</td>\n",
       "      <td>0</td>\n",
       "    </tr>\n",
       "    <tr>\n",
       "      <th>3</th>\n",
       "      <td>4.6</td>\n",
       "      <td>3.1</td>\n",
       "      <td>1.5</td>\n",
       "      <td>0.2</td>\n",
       "      <td>0</td>\n",
       "    </tr>\n",
       "    <tr>\n",
       "      <th>4</th>\n",
       "      <td>5.0</td>\n",
       "      <td>3.6</td>\n",
       "      <td>1.4</td>\n",
       "      <td>0.2</td>\n",
       "      <td>0</td>\n",
       "    </tr>\n",
       "    <tr>\n",
       "      <th>5</th>\n",
       "      <td>5.4</td>\n",
       "      <td>3.9</td>\n",
       "      <td>1.7</td>\n",
       "      <td>0.4</td>\n",
       "      <td>0</td>\n",
       "    </tr>\n",
       "    <tr>\n",
       "      <th>6</th>\n",
       "      <td>4.6</td>\n",
       "      <td>3.4</td>\n",
       "      <td>1.4</td>\n",
       "      <td>0.3</td>\n",
       "      <td>0</td>\n",
       "    </tr>\n",
       "    <tr>\n",
       "      <th>7</th>\n",
       "      <td>5.0</td>\n",
       "      <td>3.4</td>\n",
       "      <td>1.5</td>\n",
       "      <td>0.2</td>\n",
       "      <td>0</td>\n",
       "    </tr>\n",
       "    <tr>\n",
       "      <th>8</th>\n",
       "      <td>4.4</td>\n",
       "      <td>2.9</td>\n",
       "      <td>1.4</td>\n",
       "      <td>0.2</td>\n",
       "      <td>0</td>\n",
       "    </tr>\n",
       "    <tr>\n",
       "      <th>9</th>\n",
       "      <td>4.9</td>\n",
       "      <td>3.1</td>\n",
       "      <td>1.5</td>\n",
       "      <td>0.1</td>\n",
       "      <td>0</td>\n",
       "    </tr>\n",
       "  </tbody>\n",
       "</table>\n",
       "</div>"
      ],
      "text/plain": [
       "   sepal length (cm)  sepal width (cm)  petal length (cm)  petal width (cm)  \\\n",
       "0                5.1               3.5                1.4               0.2   \n",
       "1                4.9               3.0                1.4               0.2   \n",
       "2                4.7               3.2                1.3               0.2   \n",
       "3                4.6               3.1                1.5               0.2   \n",
       "4                5.0               3.6                1.4               0.2   \n",
       "5                5.4               3.9                1.7               0.4   \n",
       "6                4.6               3.4                1.4               0.3   \n",
       "7                5.0               3.4                1.5               0.2   \n",
       "8                4.4               2.9                1.4               0.2   \n",
       "9                4.9               3.1                1.5               0.1   \n",
       "\n",
       "   measure  \n",
       "0        0  \n",
       "1        0  \n",
       "2        0  \n",
       "3        0  \n",
       "4        0  \n",
       "5        0  \n",
       "6        0  \n",
       "7        0  \n",
       "8        0  \n",
       "9        0  "
      ]
     },
     "execution_count": 95,
     "metadata": {},
     "output_type": "execute_result"
    }
   ],
   "source": [
    "df1 = pd.DataFrame(iris.data, columns = iris.feature_names) \n",
    "df1['measure'] = iris.target\n",
    "df1.head(10)"
   ]
  },
  {
   "cell_type": "markdown",
   "id": "abaa628c-2cad-4ed9-8c24-0c83b9a10feb",
   "metadata": {},
   "source": [
    "check for existing null values"
   ]
  },
  {
   "cell_type": "code",
   "execution_count": 96,
   "id": "f43ef452-40b6-472c-b4ec-50af1fc72254",
   "metadata": {},
   "outputs": [
    {
     "name": "stdout",
     "output_type": "stream",
     "text": [
      "0\n"
     ]
    }
   ],
   "source": [
    "total_null_values1 = sum(df1.isnull().sum())\n",
    "print(total_null_values1)"
   ]
  },
  {
   "cell_type": "markdown",
   "id": "a8085be0-a5d9-4d8b-bffb-37633f345c1b",
   "metadata": {},
   "source": [
    "count the number of zero values in each column"
   ]
  },
  {
   "cell_type": "code",
   "execution_count": 97,
   "id": "2c75a7cf-fd7b-4f60-8935-6c71b5f35d4f",
   "metadata": {},
   "outputs": [
    {
     "name": "stdout",
     "output_type": "stream",
     "text": [
      "sepal length (cm)    0\n",
      "sepal width (cm)     0\n",
      "petal length (cm)    0\n",
      "petal width (cm)     0\n",
      "dtype: int64\n"
     ]
    }
   ],
   "source": [
    "print((df1[['sepal length (cm)','sepal width (cm)','petal length (cm)','petal width (cm)']] == 0).sum())"
   ]
  },
  {
   "cell_type": "markdown",
   "id": "bd9e17b1-c82a-4636-9380-8e11b39fcdf0",
   "metadata": {},
   "source": [
    "# Preprocessing, RandomForestClassifier and Metrics\n"
   ]
  },
  {
   "cell_type": "markdown",
   "id": "3ea6ac68-500b-4ee3-8668-860e83097a3d",
   "metadata": {},
   "source": [
    "## Example 01\n",
    "dataset separated to 80/20 for training and testing<br/>\n",
    "standardize and train/test split of diabetes dataset. <br>\n",
    "split diabetes dataset to train and test in to random number of 20% testing and 80% training and test size should be between 0.0 and 1.0"
   ]
  },
  {
   "cell_type": "code",
   "execution_count": 98,
   "id": "94ebbcc5-aaaf-4ea3-a942-18a6b7b46a6f",
   "metadata": {},
   "outputs": [],
   "source": [
    "from sklearn.model_selection import train_test_split\n",
    "diabetes.data = preprocessing.scale(diabetes.data)\n",
    "\n",
    "X_train, X_test, Y_train, Y_test = train_test_split(\n",
    "    diabetes.data, diabetes.target, test_size=0.2, random_state=5)"
   ]
  },
  {
   "cell_type": "markdown",
   "id": "4b253050-3d79-4aeb-8fb8-e32a18992fab",
   "metadata": {},
   "source": [
    "display the traing and testing dataser label and feature details"
   ]
  },
  {
   "cell_type": "code",
   "execution_count": 99,
   "id": "d33bc492-038d-4682-accf-7d058af71bea",
   "metadata": {},
   "outputs": [
    {
     "name": "stdout",
     "output_type": "stream",
     "text": [
      "(353, 10)  is the shape of Training Data Features\n",
      "(353,)  is the shape of Training Data Lables\n",
      "(89, 10)  is the shape of Testing Data Features\n",
      "(89,)  is the shape of Testing Data Lables\n"
     ]
    }
   ],
   "source": [
    "print(X_train.shape,' is the shape of Training Data Features')\n",
    "print(Y_train.shape,' is the shape of Training Data Lables')\n",
    "print(X_test.shape,' is the shape of Testing Data Features')\n",
    "print(Y_test.shape,' is the shape of Testing Data Lables')"
   ]
  },
  {
   "cell_type": "markdown",
   "id": "86753ac2-82bf-4d09-a113-4881d4ffe36e",
   "metadata": {},
   "source": [
    "impliment the **Random Forest Classifier Algorithm** and import **RandomForestClassifier** from sklearn <br/>\n",
    "sklearn.metrics includes score functions and performance metrics and pairwise metrics and distance computations<br/>\n",
    "calculate test data scores over 10, 100, 200, 500 and 1000 trees<br/>\n",
    "\n",
    "***Random Forest Classifier Algorithm*** \n",
    "* Allows the machine or software agent to learn its behavior based on feedback from the environment.\n",
    "* This behavior can be learnt once and for all, or keep on adapting as time goes by.\n",
    "* A reward function is used to measure the reward for a given action"
   ]
  },
  {
   "cell_type": "code",
   "execution_count": 100,
   "id": "51cbef94-20c3-4143-bafc-3f5354cd865d",
   "metadata": {},
   "outputs": [],
   "source": [
    "from sklearn.ensemble import RandomForestClassifier\n",
    "import sklearn.metrics as sm\n",
    "rf_scores = []\n",
    "estimators = [10, 100, 200, 500, 1000]\n",
    "for i in estimators:\n",
    "    rf_classifier = RandomForestClassifier(n_estimators=i, random_state = 42)\n",
    "    rf_classifier.fit(X_train, Y_train)\n",
    "    rf_scores.append(rf_classifier.score(X_test, Y_test))"
   ]
  },
  {
   "cell_type": "markdown",
   "id": "bac247c3-c626-4c86-a5a8-9905426faf1b",
   "metadata": {},
   "source": [
    "**predictions** using test data and get the **accuracy score** for dataset<br/>\n",
    "printing the **accuaracy score** for the test data"
   ]
  },
  {
   "cell_type": "code",
   "execution_count": 101,
   "id": "ab724334-280c-4031-9d35-358a7570ca1f",
   "metadata": {},
   "outputs": [
    {
     "name": "stdout",
     "output_type": "stream",
     "text": [
      "Accuracy score given for test data: 0.02247191011235955\n"
     ]
    }
   ],
   "source": [
    "Y_pred = rf_classifier.predict(X_test)\n",
    "Y_pred\n",
    "accuracy_score=sm.accuracy_score(Y_test, Y_pred)\n",
    "print('Accuracy score given for test data:',str(accuracy_score))"
   ]
  },
  {
   "cell_type": "markdown",
   "id": "e32e154a-c6de-423b-a712-fccb03885be2",
   "metadata": {},
   "source": [
    "## Example 02\n",
    "dataset separated to 75/25 for training and testing\n",
    "standardize and train/test split of diabetes dataset.\n",
    "split diabetes dataset to train and test in to random number of 25% testing and 75% training and test size should be between 0.0 and 1.0"
   ]
  },
  {
   "cell_type": "code",
   "execution_count": 102,
   "id": "8195cb93-b23e-44d8-9733-df474566ee18",
   "metadata": {},
   "outputs": [],
   "source": [
    "from sklearn.model_selection import train_test_split\n",
    "iris.data = preprocessing.scale(iris.data)\n",
    "\n",
    "X_train1, X_test1, Y_train1, Y_test1 = train_test_split(\n",
    "    iris.data, iris.target, test_size=0.25, random_state=5)"
   ]
  },
  {
   "cell_type": "markdown",
   "id": "6d25717c-29e9-46fd-aba8-d35e7236319d",
   "metadata": {},
   "source": [
    "display the traing and testing dataser label and feature details"
   ]
  },
  {
   "cell_type": "code",
   "execution_count": 103,
   "id": "e66d0d3f-4c23-428b-b0f6-9743695c707d",
   "metadata": {},
   "outputs": [
    {
     "name": "stdout",
     "output_type": "stream",
     "text": [
      "(112, 4)  is the shape of Training Data Features\n",
      "(112,)  is the shape of Training Data Lables\n",
      "(38, 4)  is the shape of Testing Data Features\n",
      "(38,)  is the shape of Testing Data Lables\n"
     ]
    }
   ],
   "source": [
    "print(X_train1.shape,' is the shape of Training Data Features')\n",
    "print(Y_train1.shape,' is the shape of Training Data Lables')\n",
    "print(X_test1.shape,' is the shape of Testing Data Features')\n",
    "print(Y_test1.shape,' is the shape of Testing Data Lables')"
   ]
  },
  {
   "cell_type": "markdown",
   "id": "f0c845c0-b57f-4c87-ab7f-6f2b501921e4",
   "metadata": {},
   "source": [
    "impliment the **Support Vector Machines** and import **SVM** from sklearn<br/>\n",
    "\n",
    "***Support Vector Machines Algorithm (SVM)***\n",
    "* When the correct classes (labels) of the training data are known we can use Supervised Learning (Classification)."
   ]
  },
  {
   "cell_type": "code",
   "execution_count": 104,
   "id": "cc2b57bd-6917-49c2-aece-31fd0b892fba",
   "metadata": {},
   "outputs": [],
   "source": [
    "from sklearn import svm\n",
    "from sklearn.svm import SVC\n",
    "svm_classiifier = SVC(kernel='linear', C=1.0, random_state=42)\n",
    "svm_classiifier.fit(X_train1, Y_train1)\n",
    "Y_pred1 = svm_classiifier.predict(X_test1)"
   ]
  },
  {
   "cell_type": "markdown",
   "id": "bb4e5c6e-3207-4977-b31a-f6a1fadabf97",
   "metadata": {},
   "source": [
    "**predictions** using test data and get the **accuracy score** for dataset<br/>\n",
    "printing the **accuaracy score** for the test data"
   ]
  },
  {
   "cell_type": "code",
   "execution_count": 105,
   "id": "186aa6b8-5575-4a11-b574-63e726927834",
   "metadata": {},
   "outputs": [
    {
     "name": "stdout",
     "output_type": "stream",
     "text": [
      "Accuracy score given for test data: 0.9210526315789473\n"
     ]
    }
   ],
   "source": [
    "accuracy_score1 = sm.accuracy_score(Y_test1, Y_pred1)\n",
    "print('Accuracy score given for test data:',str(accuracy_score1))"
   ]
  },
  {
   "cell_type": "markdown",
   "id": "06d29fbd-fa77-4c5f-a1e9-bfeea45f39fa",
   "metadata": {},
   "source": [
    "# Visualisation\n",
    "## Example 01\n",
    "import statistical graphics library to show graphical details of diabetes bmi and measure(target)<br/>\n",
    "set the fields to visuallisation "
   ]
  },
  {
   "cell_type": "code",
   "execution_count": 106,
   "id": "c0f9b441-4846-4ce3-8508-f5c723cbe0d9",
   "metadata": {},
   "outputs": [
    {
     "data": {
      "text/plain": [
       "<Axes: xlabel='bmi', ylabel='measure'>"
      ]
     },
     "execution_count": 106,
     "metadata": {},
     "output_type": "execute_result"
    },
    {
     "data": {
      "image/png": "[encoded data removed]",
      "text/plain": [
       "<Figure size 640x480 with 1 Axes>"
      ]
     },
     "metadata": {},
     "output_type": "display_data"
    }
   ],
   "source": [
    "import seaborn as sns\n",
    "sns.regplot(x=\"bmi\", y=\"measure\", data=df)"
   ]
  },
  {
   "cell_type": "markdown",
   "id": "4a1867c0-11ce-454a-8784-54798b60b98a",
   "metadata": {},
   "source": [
    "## Example 02\n",
    "generates confusion matrix based on predicted outputs and real labels"
   ]
  },
  {
   "cell_type": "code",
   "execution_count": 110,
   "id": "4945fb84-4969-4f36-964c-7feaafe80b82",
   "metadata": {},
   "outputs": [
    {
     "data": {
      "image/png": "[encoded data removed]",
      "text/plain": [
       "<Figure size 800x600 with 2 Axes>"
      ]
     },
     "metadata": {},
     "output_type": "display_data"
    }
   ],
   "source": [
    "from sklearn.metrics import confusion_matrix\n",
    "import matplotlib.pyplot as plt\n",
    "import seaborn as sns;\n",
    "\n",
    "con_metrix = confusion_matrix(Y_test1, Y_pred1)\n",
    "plt.figure(figsize=(8,6))\n",
    "sns.heatmap(con_metrix, annot=True, cmap='Blues', fmt='g', xticklabels=iris.target_names, yticklabels=iris.target_names)\n",
    "plt.xlabel('Predicted labels')\n",
    "plt.ylabel('True labels')\n",
    "plt.title('Confusion Matrix')\n",
    "plt.show()"
   ]
  }
 ],
 "metadata": {
  "kernelspec": {
   "display_name": "Python 3 (ipykernel)",
   "language": "python",
   "name": "python3"
  },
  "language_info": {
   "codemirror_mode": {
    "name": "ipython",
    "version": 3
   },
   "file_extension": ".py",
   "mimetype": "text/x-python",
   "name": "python",
   "nbconvert_exporter": "python",
   "pygments_lexer": "ipython3",
   "version": "3.11.7"
  },
  "widgets": {
   "application/vnd.jupyter.widget-state+json": {
    "state": {},
    "version_major": 2,
    "version_minor": 0
   }
  }
 },
 "nbformat": 4,
 "nbformat_minor": 5
}
