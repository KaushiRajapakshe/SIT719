{
 "cells": [
  {
   "cell_type": "markdown",
   "metadata": {
    "id": "y61xJzKhjsAt"
   },
   "source": [
    "# **Random Forest(RF) on IoT Combined Dataset**"
   ]
  },
  {
   "cell_type": "markdown",
   "metadata": {
    "id": "SSWJ-I3UKZ6h"
   },
   "source": [
    "****Importing libraries****"
   ]
  },
  {
   "cell_type": "code",
   "execution_count": 13,
   "metadata": {
    "id": "AwMrsTn_KVhy"
   },
   "outputs": [],
   "source": [
    "import timeit\n",
    "import pandas as pd\n",
    "import numpy as np\n",
    "import seaborn as sns\n",
    "import matplotlib.pyplot as plt\n",
    "from sklearn.model_selection import train_test_split\n",
    "from sklearn.ensemble import RandomForestClassifier\n",
    "from sklearn import metrics\n",
    "from sklearn.metrics import classification_report, confusion_matrix\n",
    "from sklearn.metrics import roc_curve\n",
    "from sklearn.metrics import roc_auc_score\n",
    "import warnings\n",
    "%matplotlib inline\n",
    "warnings.filterwarnings('ignore')\n",
    "#warnings.filterwarnings('always') "
   ]
  },
  {
   "cell_type": "markdown",
   "metadata": {
    "id": "VVVIs7G_KdTq"
   },
   "source": [
    "**Upload File**"
   ]
  },
  {
   "cell_type": "code",
   "execution_count": 14,
   "metadata": {
    "id": "24Ek4cCej76I"
   },
   "outputs": [],
   "source": [
    "#uploaded = files.upload()"
   ]
  },
  {
   "cell_type": "markdown",
   "metadata": {
    "id": "4jmo-htGGdCD"
   },
   "source": [
    "**Importing the Dataset**"
   ]
  },
  {
   "cell_type": "code",
   "execution_count": 15,
   "metadata": {
    "colab": {
     "base_uri": "https://localhost:8080/",
     "height": 73,
     "resources": {
      "http://localhost:8080/nbextensions/google.colab/files.js": {
       "data": "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",
       "headers": [
        [
         "content-type",
         "application/javascript"
        ]
       ],
       "ok": true,
       "status": 200,
       "status_text": ""
      }
     }
    },
    "id": "AsvTp_w-l-Km",
    "outputId": "fe18dcb6-d011-43b7-8daf-654749708c67"
   },
   "outputs": [],
   "source": [
    "import pandas as pd\n",
    "\n",
    "dataset = pd.read_csv('Processed_Combined_IoT_dataset.csv')"
   ]
  },
  {
   "cell_type": "markdown",
   "metadata": {
    "id": "2BWWYGPNGhst"
   },
   "source": [
    "**Exploratory Data Analysis**"
   ]
  },
  {
   "cell_type": "code",
   "execution_count": 16,
   "metadata": {
    "colab": {
     "base_uri": "https://localhost:8080/",
     "height": 220
    },
    "id": "0hEM0bOClrjL",
    "outputId": "281ebb72-0fc1-4ae4-9170-c89229b3e26a"
   },
   "outputs": [
    {
     "data": {
      "text/html": [
       "<div>\n",
       "<style scoped>\n",
       "    .dataframe tbody tr th:only-of-type {\n",
       "        vertical-align: middle;\n",
       "    }\n",
       "\n",
       "    .dataframe tbody tr th {\n",
       "        vertical-align: top;\n",
       "    }\n",
       "\n",
       "    .dataframe thead th {\n",
       "        text-align: right;\n",
       "    }\n",
       "</style>\n",
       "<table border=\"1\" class=\"dataframe\">\n",
       "  <thead>\n",
       "    <tr style=\"text-align: right;\">\n",
       "      <th></th>\n",
       "      <th>FC1_Read_Input_Register</th>\n",
       "      <th>FC2_Read_Discrete_Value</th>\n",
       "      <th>FC3_Read_Holding_Register</th>\n",
       "      <th>FC4_Read_Coil</th>\n",
       "      <th>current_temperature</th>\n",
       "      <th>door_state</th>\n",
       "      <th>fridge_temperature</th>\n",
       "      <th>humidity</th>\n",
       "      <th>latitude</th>\n",
       "      <th>light_status</th>\n",
       "      <th>longitude</th>\n",
       "      <th>motion_status</th>\n",
       "      <th>pressure</th>\n",
       "      <th>sphone_signal</th>\n",
       "      <th>temp_condition</th>\n",
       "      <th>temperature</th>\n",
       "      <th>thermostat_status</th>\n",
       "      <th>label</th>\n",
       "    </tr>\n",
       "  </thead>\n",
       "  <tbody>\n",
       "    <tr>\n",
       "      <th>0</th>\n",
       "      <td>0.495216</td>\n",
       "      <td>0.499092</td>\n",
       "      <td>0.488897</td>\n",
       "      <td>0.499405</td>\n",
       "      <td>0.344399</td>\n",
       "      <td>0</td>\n",
       "      <td>0.930769</td>\n",
       "      <td>0.462511</td>\n",
       "      <td>0.008217</td>\n",
       "      <td>0</td>\n",
       "      <td>0.008112</td>\n",
       "      <td>0</td>\n",
       "      <td>0.533556</td>\n",
       "      <td>0.666667</td>\n",
       "      <td>0.2</td>\n",
       "      <td>0.517307</td>\n",
       "      <td>1</td>\n",
       "      <td>0</td>\n",
       "    </tr>\n",
       "    <tr>\n",
       "      <th>1</th>\n",
       "      <td>0.495216</td>\n",
       "      <td>0.499092</td>\n",
       "      <td>0.488897</td>\n",
       "      <td>0.499405</td>\n",
       "      <td>0.344399</td>\n",
       "      <td>0</td>\n",
       "      <td>0.588462</td>\n",
       "      <td>0.462511</td>\n",
       "      <td>0.008217</td>\n",
       "      <td>0</td>\n",
       "      <td>0.008112</td>\n",
       "      <td>0</td>\n",
       "      <td>0.533556</td>\n",
       "      <td>0.666667</td>\n",
       "      <td>0.2</td>\n",
       "      <td>0.517307</td>\n",
       "      <td>1</td>\n",
       "      <td>0</td>\n",
       "    </tr>\n",
       "    <tr>\n",
       "      <th>2</th>\n",
       "      <td>0.495216</td>\n",
       "      <td>0.499092</td>\n",
       "      <td>0.488897</td>\n",
       "      <td>0.499405</td>\n",
       "      <td>0.344399</td>\n",
       "      <td>0</td>\n",
       "      <td>0.076923</td>\n",
       "      <td>0.462511</td>\n",
       "      <td>0.008217</td>\n",
       "      <td>0</td>\n",
       "      <td>0.008112</td>\n",
       "      <td>0</td>\n",
       "      <td>0.533556</td>\n",
       "      <td>0.666667</td>\n",
       "      <td>0.8</td>\n",
       "      <td>0.517307</td>\n",
       "      <td>1</td>\n",
       "      <td>0</td>\n",
       "    </tr>\n",
       "    <tr>\n",
       "      <th>3</th>\n",
       "      <td>0.495216</td>\n",
       "      <td>0.499092</td>\n",
       "      <td>0.488897</td>\n",
       "      <td>0.499405</td>\n",
       "      <td>0.344399</td>\n",
       "      <td>0</td>\n",
       "      <td>0.292308</td>\n",
       "      <td>0.462511</td>\n",
       "      <td>0.008217</td>\n",
       "      <td>0</td>\n",
       "      <td>0.008112</td>\n",
       "      <td>0</td>\n",
       "      <td>0.533556</td>\n",
       "      <td>0.666667</td>\n",
       "      <td>0.8</td>\n",
       "      <td>0.517307</td>\n",
       "      <td>1</td>\n",
       "      <td>0</td>\n",
       "    </tr>\n",
       "    <tr>\n",
       "      <th>4</th>\n",
       "      <td>0.495216</td>\n",
       "      <td>0.499092</td>\n",
       "      <td>0.488897</td>\n",
       "      <td>0.499405</td>\n",
       "      <td>0.344399</td>\n",
       "      <td>0</td>\n",
       "      <td>0.746154</td>\n",
       "      <td>0.462511</td>\n",
       "      <td>0.008217</td>\n",
       "      <td>0</td>\n",
       "      <td>0.008112</td>\n",
       "      <td>0</td>\n",
       "      <td>0.533556</td>\n",
       "      <td>0.666667</td>\n",
       "      <td>0.2</td>\n",
       "      <td>0.517307</td>\n",
       "      <td>1</td>\n",
       "      <td>0</td>\n",
       "    </tr>\n",
       "  </tbody>\n",
       "</table>\n",
       "</div>"
      ],
      "text/plain": [
       "   FC1_Read_Input_Register  FC2_Read_Discrete_Value  \\\n",
       "0                 0.495216                 0.499092   \n",
       "1                 0.495216                 0.499092   \n",
       "2                 0.495216                 0.499092   \n",
       "3                 0.495216                 0.499092   \n",
       "4                 0.495216                 0.499092   \n",
       "\n",
       "   FC3_Read_Holding_Register  FC4_Read_Coil  current_temperature  door_state  \\\n",
       "0                   0.488897       0.499405             0.344399           0   \n",
       "1                   0.488897       0.499405             0.344399           0   \n",
       "2                   0.488897       0.499405             0.344399           0   \n",
       "3                   0.488897       0.499405             0.344399           0   \n",
       "4                   0.488897       0.499405             0.344399           0   \n",
       "\n",
       "   fridge_temperature  humidity  latitude  light_status  longitude  \\\n",
       "0            0.930769  0.462511  0.008217             0   0.008112   \n",
       "1            0.588462  0.462511  0.008217             0   0.008112   \n",
       "2            0.076923  0.462511  0.008217             0   0.008112   \n",
       "3            0.292308  0.462511  0.008217             0   0.008112   \n",
       "4            0.746154  0.462511  0.008217             0   0.008112   \n",
       "\n",
       "   motion_status  pressure  sphone_signal  temp_condition  temperature  \\\n",
       "0              0  0.533556       0.666667             0.2     0.517307   \n",
       "1              0  0.533556       0.666667             0.2     0.517307   \n",
       "2              0  0.533556       0.666667             0.8     0.517307   \n",
       "3              0  0.533556       0.666667             0.8     0.517307   \n",
       "4              0  0.533556       0.666667             0.2     0.517307   \n",
       "\n",
       "   thermostat_status  label  \n",
       "0                  1      0  \n",
       "1                  1      0  \n",
       "2                  1      0  \n",
       "3                  1      0  \n",
       "4                  1      0  "
      ]
     },
     "execution_count": 16,
     "metadata": {},
     "output_type": "execute_result"
    }
   ],
   "source": [
    "dataset.head()"
   ]
  },
  {
   "cell_type": "code",
   "execution_count": 17,
   "metadata": {
    "colab": {
     "base_uri": "https://localhost:8080/"
    },
    "id": "Bq4nVy0ILHdo",
    "outputId": "24567499-cdb8-4384-ac10-da8d045f6559"
   },
   "outputs": [
    {
     "name": "stdout",
     "output_type": "stream",
     "text": [
      "(401119, 18)\n"
     ]
    }
   ],
   "source": [
    "print(dataset.shape)"
   ]
  },
  {
   "cell_type": "code",
   "execution_count": 18,
   "metadata": {
    "colab": {
     "base_uri": "https://localhost:8080/"
    },
    "id": "gJVXzqugDdWd",
    "outputId": "257c8116-2b75-462f-a61a-33a54c11733e"
   },
   "outputs": [
    {
     "name": "stdout",
     "output_type": "stream",
     "text": [
      "['FC1_Read_Input_Register', 'FC2_Read_Discrete_Value', 'FC3_Read_Holding_Register', 'FC4_Read_Coil', 'current_temperature', 'door_state', 'fridge_temperature', 'humidity', 'latitude', 'light_status', 'longitude', 'motion_status', 'pressure', 'sphone_signal', 'temp_condition', 'temperature', 'thermostat_status', 'label']\n"
     ]
    }
   ],
   "source": [
    "print(list(dataset.columns))"
   ]
  },
  {
   "cell_type": "code",
   "execution_count": 19,
   "metadata": {
    "colab": {
     "base_uri": "https://localhost:8080/"
    },
    "id": "kRuslnJmZbNZ",
    "outputId": "532ed11c-0ae4-4d4a-cd1c-2d08d7539f1d"
   },
   "outputs": [
    {
     "data": {
      "text/plain": [
       "['label']"
      ]
     },
     "execution_count": 19,
     "metadata": {},
     "output_type": "execute_result"
    }
   ],
   "source": [
    "target_cols=list(dataset.columns[-1:])\n",
    "target_cols"
   ]
  },
  {
   "cell_type": "code",
   "execution_count": 20,
   "metadata": {
    "colab": {
     "base_uri": "https://localhost:8080/"
    },
    "id": "qDuBF5llF833",
    "outputId": "0d1e2be8-0ccd-416e-fa78-61d7dbc791b9"
   },
   "outputs": [
    {
     "data": {
      "text/plain": [
       "['FC1_Read_Input_Register',\n",
       " 'FC2_Read_Discrete_Value',\n",
       " 'FC3_Read_Holding_Register',\n",
       " 'FC4_Read_Coil',\n",
       " 'current_temperature',\n",
       " 'door_state',\n",
       " 'fridge_temperature',\n",
       " 'humidity',\n",
       " 'latitude',\n",
       " 'light_status',\n",
       " 'longitude',\n",
       " 'motion_status',\n",
       " 'pressure',\n",
       " 'sphone_signal',\n",
       " 'temp_condition',\n",
       " 'temperature',\n",
       " 'thermostat_status']"
      ]
     },
     "execution_count": 20,
     "metadata": {},
     "output_type": "execute_result"
    }
   ],
   "source": [
    "feature_cols= list(dataset.columns[:-1])\n",
    "feature_cols"
   ]
  },
  {
   "cell_type": "markdown",
   "metadata": {
    "id": "poF7HvW6DvVp"
   },
   "source": [
    "**Split Dataset**"
   ]
  },
  {
   "cell_type": "code",
   "execution_count": 21,
   "metadata": {
    "id": "lHM3bLWKHel7"
   },
   "outputs": [],
   "source": [
    "#split dataset in features and target variable\n",
    "X = dataset.drop('label', axis=1) # Features\n",
    "y = dataset['label'] # Target variable"
   ]
  },
  {
   "cell_type": "code",
   "execution_count": 22,
   "metadata": {
    "colab": {
     "base_uri": "https://localhost:8080/",
     "height": 220
    },
    "id": "55_7-v6UdUQX",
    "outputId": "869974a7-2a84-4cd2-bdb8-bacd68ac8e0f"
   },
   "outputs": [
    {
     "data": {
      "text/html": [
       "<div>\n",
       "<style scoped>\n",
       "    .dataframe tbody tr th:only-of-type {\n",
       "        vertical-align: middle;\n",
       "    }\n",
       "\n",
       "    .dataframe tbody tr th {\n",
       "        vertical-align: top;\n",
       "    }\n",
       "\n",
       "    .dataframe thead th {\n",
       "        text-align: right;\n",
       "    }\n",
       "</style>\n",
       "<table border=\"1\" class=\"dataframe\">\n",
       "  <thead>\n",
       "    <tr style=\"text-align: right;\">\n",
       "      <th></th>\n",
       "      <th>FC1_Read_Input_Register</th>\n",
       "      <th>FC2_Read_Discrete_Value</th>\n",
       "      <th>FC3_Read_Holding_Register</th>\n",
       "      <th>FC4_Read_Coil</th>\n",
       "      <th>current_temperature</th>\n",
       "      <th>door_state</th>\n",
       "      <th>fridge_temperature</th>\n",
       "      <th>humidity</th>\n",
       "      <th>latitude</th>\n",
       "      <th>light_status</th>\n",
       "      <th>longitude</th>\n",
       "      <th>motion_status</th>\n",
       "      <th>pressure</th>\n",
       "      <th>sphone_signal</th>\n",
       "      <th>temp_condition</th>\n",
       "      <th>temperature</th>\n",
       "      <th>thermostat_status</th>\n",
       "    </tr>\n",
       "  </thead>\n",
       "  <tbody>\n",
       "    <tr>\n",
       "      <th>0</th>\n",
       "      <td>0.495216</td>\n",
       "      <td>0.499092</td>\n",
       "      <td>0.488897</td>\n",
       "      <td>0.499405</td>\n",
       "      <td>0.344399</td>\n",
       "      <td>0</td>\n",
       "      <td>0.930769</td>\n",
       "      <td>0.462511</td>\n",
       "      <td>0.008217</td>\n",
       "      <td>0</td>\n",
       "      <td>0.008112</td>\n",
       "      <td>0</td>\n",
       "      <td>0.533556</td>\n",
       "      <td>0.666667</td>\n",
       "      <td>0.2</td>\n",
       "      <td>0.517307</td>\n",
       "      <td>1</td>\n",
       "    </tr>\n",
       "    <tr>\n",
       "      <th>1</th>\n",
       "      <td>0.495216</td>\n",
       "      <td>0.499092</td>\n",
       "      <td>0.488897</td>\n",
       "      <td>0.499405</td>\n",
       "      <td>0.344399</td>\n",
       "      <td>0</td>\n",
       "      <td>0.588462</td>\n",
       "      <td>0.462511</td>\n",
       "      <td>0.008217</td>\n",
       "      <td>0</td>\n",
       "      <td>0.008112</td>\n",
       "      <td>0</td>\n",
       "      <td>0.533556</td>\n",
       "      <td>0.666667</td>\n",
       "      <td>0.2</td>\n",
       "      <td>0.517307</td>\n",
       "      <td>1</td>\n",
       "    </tr>\n",
       "    <tr>\n",
       "      <th>2</th>\n",
       "      <td>0.495216</td>\n",
       "      <td>0.499092</td>\n",
       "      <td>0.488897</td>\n",
       "      <td>0.499405</td>\n",
       "      <td>0.344399</td>\n",
       "      <td>0</td>\n",
       "      <td>0.076923</td>\n",
       "      <td>0.462511</td>\n",
       "      <td>0.008217</td>\n",
       "      <td>0</td>\n",
       "      <td>0.008112</td>\n",
       "      <td>0</td>\n",
       "      <td>0.533556</td>\n",
       "      <td>0.666667</td>\n",
       "      <td>0.8</td>\n",
       "      <td>0.517307</td>\n",
       "      <td>1</td>\n",
       "    </tr>\n",
       "    <tr>\n",
       "      <th>3</th>\n",
       "      <td>0.495216</td>\n",
       "      <td>0.499092</td>\n",
       "      <td>0.488897</td>\n",
       "      <td>0.499405</td>\n",
       "      <td>0.344399</td>\n",
       "      <td>0</td>\n",
       "      <td>0.292308</td>\n",
       "      <td>0.462511</td>\n",
       "      <td>0.008217</td>\n",
       "      <td>0</td>\n",
       "      <td>0.008112</td>\n",
       "      <td>0</td>\n",
       "      <td>0.533556</td>\n",
       "      <td>0.666667</td>\n",
       "      <td>0.8</td>\n",
       "      <td>0.517307</td>\n",
       "      <td>1</td>\n",
       "    </tr>\n",
       "    <tr>\n",
       "      <th>4</th>\n",
       "      <td>0.495216</td>\n",
       "      <td>0.499092</td>\n",
       "      <td>0.488897</td>\n",
       "      <td>0.499405</td>\n",
       "      <td>0.344399</td>\n",
       "      <td>0</td>\n",
       "      <td>0.746154</td>\n",
       "      <td>0.462511</td>\n",
       "      <td>0.008217</td>\n",
       "      <td>0</td>\n",
       "      <td>0.008112</td>\n",
       "      <td>0</td>\n",
       "      <td>0.533556</td>\n",
       "      <td>0.666667</td>\n",
       "      <td>0.2</td>\n",
       "      <td>0.517307</td>\n",
       "      <td>1</td>\n",
       "    </tr>\n",
       "  </tbody>\n",
       "</table>\n",
       "</div>"
      ],
      "text/plain": [
       "   FC1_Read_Input_Register  FC2_Read_Discrete_Value  \\\n",
       "0                 0.495216                 0.499092   \n",
       "1                 0.495216                 0.499092   \n",
       "2                 0.495216                 0.499092   \n",
       "3                 0.495216                 0.499092   \n",
       "4                 0.495216                 0.499092   \n",
       "\n",
       "   FC3_Read_Holding_Register  FC4_Read_Coil  current_temperature  door_state  \\\n",
       "0                   0.488897       0.499405             0.344399           0   \n",
       "1                   0.488897       0.499405             0.344399           0   \n",
       "2                   0.488897       0.499405             0.344399           0   \n",
       "3                   0.488897       0.499405             0.344399           0   \n",
       "4                   0.488897       0.499405             0.344399           0   \n",
       "\n",
       "   fridge_temperature  humidity  latitude  light_status  longitude  \\\n",
       "0            0.930769  0.462511  0.008217             0   0.008112   \n",
       "1            0.588462  0.462511  0.008217             0   0.008112   \n",
       "2            0.076923  0.462511  0.008217             0   0.008112   \n",
       "3            0.292308  0.462511  0.008217             0   0.008112   \n",
       "4            0.746154  0.462511  0.008217             0   0.008112   \n",
       "\n",
       "   motion_status  pressure  sphone_signal  temp_condition  temperature  \\\n",
       "0              0  0.533556       0.666667             0.2     0.517307   \n",
       "1              0  0.533556       0.666667             0.2     0.517307   \n",
       "2              0  0.533556       0.666667             0.8     0.517307   \n",
       "3              0  0.533556       0.666667             0.8     0.517307   \n",
       "4              0  0.533556       0.666667             0.2     0.517307   \n",
       "\n",
       "   thermostat_status  \n",
       "0                  1  \n",
       "1                  1  \n",
       "2                  1  \n",
       "3                  1  \n",
       "4                  1  "
      ]
     },
     "execution_count": 22,
     "metadata": {},
     "output_type": "execute_result"
    }
   ],
   "source": [
    "X.head()"
   ]
  },
  {
   "cell_type": "code",
   "execution_count": 23,
   "metadata": {
    "colab": {
     "base_uri": "https://localhost:8080/"
    },
    "id": "Qc42gmuXdYTE",
    "outputId": "662ea8fc-82e7-4773-b3d4-f4d935c18457"
   },
   "outputs": [
    {
     "data": {
      "text/plain": [
       "0    0\n",
       "1    0\n",
       "2    0\n",
       "3    0\n",
       "4    0\n",
       "Name: label, dtype: int64"
      ]
     },
     "execution_count": 23,
     "metadata": {},
     "output_type": "execute_result"
    }
   ],
   "source": [
    "y.head()"
   ]
  },
  {
   "cell_type": "markdown",
   "metadata": {
    "id": "1v471CZ0DpxX"
   },
   "source": [
    "**Splitting Data**"
   ]
  },
  {
   "cell_type": "code",
   "execution_count": 24,
   "metadata": {
    "id": "Xt-6HOnsDngY"
   },
   "outputs": [],
   "source": [
    "# Split dataset into training set and test set\n",
    "train_x, test_x, train_Y, test_Y = train_test_split(X, y, test_size=0.3, random_state=1) # 70% training and 30% test"
   ]
  },
  {
   "cell_type": "code",
   "execution_count": 25,
   "metadata": {
    "colab": {
     "base_uri": "https://localhost:8080/"
    },
    "id": "QpwOt4T3JJwY",
    "outputId": "e84a7af3-dba8-4f56-ef55-eb850ad14d3c"
   },
   "outputs": [
    {
     "name": "stdout",
     "output_type": "stream",
     "text": [
      "X_train shape is :  (280783, 17)\n",
      "X_test shape  is :  (120336, 17)\n",
      "y_train shape is :  (280783,)\n",
      "y_test shape is  :  (120336,)\n"
     ]
    }
   ],
   "source": [
    "# Check the shape of all of these\n",
    "print(\"X_train shape is : \", train_x.shape)\n",
    "print(\"X_test shape  is : \", test_x.shape)\n",
    "print(\"y_train shape is : \", train_Y.shape)\n",
    "print(\"y_test shape is  : \", test_Y.shape)"
   ]
  },
  {
   "cell_type": "markdown",
   "metadata": {
    "id": "uu8yDYOAEZlI"
   },
   "source": [
    "**Building Model**"
   ]
  },
  {
   "cell_type": "code",
   "execution_count": 26,
   "metadata": {},
   "outputs": [],
   "source": [
    "from sklearn.metrics import confusion_matrix, zero_one_loss, accuracy_score, precision_score, recall_score, f1_score, matthews_corrcoef, cohen_kappa_score\n",
    "from sklearn import metrics\n",
    "import timeit\n",
    "\n",
    "def performance_measures_and_classification_report(test_Y, pred_y, train_time, test_time):\n",
    "    results = confusion_matrix(test_Y, pred_y)\n",
    "    error = zero_one_loss(test_Y, pred_y)\n",
    "    accuracy = accuracy_score(test_Y, pred_y)\n",
    "    precision = precision_score(test_Y, pred_y, average='weighted')\n",
    "    recall = recall_score(test_Y, pred_y, average='weighted')\n",
    "    f1 = f1_score(test_Y, pred_y, average='weighted')\n",
    "    mcc = matthews_corrcoef(test_Y, pred_y)\n",
    "    cohens_kappa = cohen_kappa_score(test_Y, pred_y)\n",
    "\n",
    "    print(\"Confusion matrix: \", results)\n",
    "    \n",
    "    print(\"Zero-one classification loss: \", error)\n",
    "    print(\"Accuracy score: \", accuracy)\n",
    "    print(\"Precision score: \", precision)\n",
    "    print(\"Recall score: \", recall)\n",
    "    print(\"F1 Score: \", f1)\n",
    "    print(\"MCC: \", mcc)\n",
    "    print(\"Cohens kappa:\", cohens_kappa)\n",
    "    print('Train Time(s): ',train_time) \n",
    "    print('Test Time(s): ',test_time)\n",
    "\n",
    "    print(\"Classification Report : \\n\\n\", metrics.classification_report(pred_y, test_Y))"
   ]
  },
  {
   "cell_type": "code",
   "execution_count": 27,
   "metadata": {},
   "outputs": [],
   "source": [
    "import seaborn as sns\n",
    "from matplotlib import pyplot as plt\n",
    "\n",
    "def plot_confusion_matrix(test_Y,pred_y, name):\n",
    "    con_metrix = confusion_matrix(y_true=test_Y,y_pred=pred_y)\n",
    "    \n",
    "    fig,ax = plt.subplots(figsize=(5,4))\n",
    "    sns.heatmap(con_metrix,annot=True,cmap='Blues', fmt='g')\n",
    "    plt.xlabel('Predicted labels')\n",
    "    plt.ylabel('True labels')\n",
    "    plt.title('Confusion Matrix')\n",
    "    plt.savefig(name)\n",
    "    plt.show()"
   ]
  },
  {
   "cell_type": "code",
   "execution_count": 28,
   "metadata": {
    "id": "aI8YKd80EgRn"
   },
   "outputs": [
    {
     "name": "stdout",
     "output_type": "stream",
     "text": [
      "Confusion matrix:  [[69911  3584]\n",
      " [12071 34770]]\n",
      "Zero-one classification loss:  0.13009406993750827\n",
      "Accuracy score:  0.8699059300624917\n",
      "Precision score:  0.873699913372861\n",
      "Recall score:  0.8699059300624917\n",
      "F1 Score:  0.8669767534402482\n",
      "MCC:  0.7256791420330211\n",
      "Cohens kappa: 0.7170933577216891\n",
      "Train Time(s):  54.76885081\n",
      "Test Time(s):  4.459366609000426\n",
      "Classification Report : \n",
      "\n",
      "               precision    recall  f1-score   support\n",
      "\n",
      "           0       0.95      0.85      0.90     81982\n",
      "           1       0.74      0.91      0.82     38354\n",
      "\n",
      "    accuracy                           0.87    120336\n",
      "   macro avg       0.85      0.88      0.86    120336\n",
      "weighted avg       0.88      0.87      0.87    120336\n",
      "\n"
     ]
    },
    {
     "data": {
      "image/png": "[encoded data removed]",
      "text/plain": [
       "<Figure size 500x400 with 2 Axes>"
      ]
     },
     "metadata": {},
     "output_type": "display_data"
    }
   ],
   "source": [
    "# 2-class classification version\n",
    "# 1. Random Forest Classifier\n",
    "#Calculate start time\n",
    "start = timeit.default_timer()\n",
    "\n",
    "#Create a Gaussian Classifier\n",
    "clf=RandomForestClassifier(n_estimators=100)\n",
    "\n",
    "#Train the model using the training sets y_pred=clf.predict(X_test)\n",
    "clf.fit(train_x,train_Y)\n",
    "\n",
    "#Calculate Stop time\n",
    "stop = timeit.default_timer()\n",
    "train_time= stop - start\n",
    "\n",
    "#Calculate start time\n",
    "start = timeit.default_timer()\n",
    "\n",
    "# Predict the model\n",
    "pred_y=clf.predict(test_x)\n",
    "\n",
    "#Calculate Stop time\n",
    "stop = timeit.default_timer()\n",
    "test_time= stop - start\n",
    "\n",
    "performance_measures_and_classification_report(test_Y, pred_y, train_time, test_time)\n",
    "\n",
    "plot_confusion_matrix(test_Y,pred_y, 'random_forest_binary_class.png')"
   ]
  },
  {
   "cell_type": "code",
   "execution_count": 29,
   "metadata": {
    "id": "zqTSnzBrE9sk"
   },
   "outputs": [
    {
     "name": "stdout",
     "output_type": "stream",
     "text": [
      "Confusion matrix:  [[69364  4131]\n",
      " [12143 34698]]\n",
      "Zero-one classification loss:  0.13523800026592203\n",
      "Accuracy score:  0.864761999734078\n",
      "Precision score:  0.8675977531035642\n",
      "Recall score:  0.864761999734078\n",
      "F1 Score:  0.8619333619073722\n",
      "MCC:  0.7139597795111047\n",
      "Cohens kappa: 0.7064653029274728\n",
      "Train Time(s):  2.931255551000504\n",
      "Test Time(s):  0.06953512800100725\n",
      "Classification Report : \n",
      "\n",
      "               precision    recall  f1-score   support\n",
      "\n",
      "           0       0.94      0.85      0.90     81507\n",
      "           1       0.74      0.89      0.81     38829\n",
      "\n",
      "    accuracy                           0.86    120336\n",
      "   macro avg       0.84      0.87      0.85    120336\n",
      "weighted avg       0.88      0.86      0.87    120336\n",
      "\n"
     ]
    },
    {
     "data": {
      "image/png": "[encoded data removed]",
      "text/plain": [
       "<Figure size 500x400 with 2 Axes>"
      ]
     },
     "metadata": {},
     "output_type": "display_data"
    }
   ],
   "source": [
    "# 1. Decision Tree Classifier\n",
    "from sklearn.tree import DecisionTreeClassifier \n",
    "from sklearn.metrics import confusion_matrix, zero_one_loss\n",
    "\n",
    "start = timeit.default_timer()\n",
    "\n",
    "decision_tree_classifier = DecisionTreeClassifier(random_state=17)\n",
    "decision_tree_classifier.fit(train_x, train_Y)\n",
    "\n",
    "stop = timeit.default_timer()\n",
    "train_time= stop - start\n",
    "\n",
    "start = timeit.default_timer()\n",
    "\n",
    "pred_y = decision_tree_classifier.predict(test_x)\n",
    "\n",
    "stop = timeit.default_timer()\n",
    "test_time= stop - start\n",
    "\n",
    "performance_measures_and_classification_report(test_Y, pred_y, train_time, test_time)\n",
    "\n",
    "plot_confusion_matrix(test_Y,pred_y, 'decision_tree_binary_class.png')"
   ]
  },
  {
   "cell_type": "code",
   "execution_count": 30,
   "metadata": {
    "id": "2klKFpNU8u38"
   },
   "outputs": [
    {
     "name": "stdout",
     "output_type": "stream",
     "text": [
      "Confusion matrix:  [[68740  4755]\n",
      " [31360 15481]]\n",
      "Zero-one classification loss:  0.3001180029251429\n",
      "Accuracy score:  0.6998819970748571\n",
      "Precision score:  0.7171953761601297\n",
      "Recall score:  0.6998819970748571\n",
      "F1 Score:  0.6633614330588607\n",
      "MCC:  0.346515062618639\n",
      "Cohens kappa: 0.2963221681287075\n",
      "Train Time(s):  0.242888867000147\n",
      "Test Time(s):  0.08678943700215314\n",
      "Classification Report : \n",
      "\n",
      "               precision    recall  f1-score   support\n",
      "\n",
      "           0       0.94      0.69      0.79    100100\n",
      "           1       0.33      0.77      0.46     20236\n",
      "\n",
      "    accuracy                           0.70    120336\n",
      "   macro avg       0.63      0.73      0.63    120336\n",
      "weighted avg       0.83      0.70      0.74    120336\n",
      "\n"
     ]
    },
    {
     "data": {
      "image/png": "[encoded data removed]",
      "text/plain": [
       "<Figure size 500x400 with 2 Axes>"
      ]
     },
     "metadata": {},
     "output_type": "display_data"
    }
   ],
   "source": [
    "# 2. Naïve Bayes Classifier\n",
    "from sklearn.naive_bayes import GaussianNB \n",
    "\n",
    "start = timeit.default_timer()\n",
    "\n",
    "naive_bayes_classifier = GaussianNB().fit(train_x, train_Y) \n",
    "\n",
    "stop = timeit.default_timer()\n",
    "train_time= stop - start\n",
    "\n",
    "start = timeit.default_timer()\n",
    "\n",
    "pred_y = naive_bayes_classifier.predict(test_x)\n",
    "\n",
    "stop = timeit.default_timer()\n",
    "test_time= stop - start\n",
    "\n",
    "performance_measures_and_classification_report(test_Y, pred_y, train_time, test_time)\n",
    "\n",
    "plot_confusion_matrix(test_Y,pred_y, 'naïve_bayes_binary_class.png')"
   ]
  },
  {
   "cell_type": "code",
   "execution_count": 31,
   "metadata": {},
   "outputs": [
    {
     "name": "stdout",
     "output_type": "stream",
     "text": [
      "Confusion matrix:  [[71660  1835]\n",
      " [35710 11131]]\n",
      "Zero-one classification loss:  0.31200139609094535\n",
      "Accuracy score:  0.6879986039090547\n",
      "Precision score:  0.7417838537302298\n",
      "Recall score:  0.6879986039090547\n",
      "F1 Score:  0.628857042079456\n",
      "MCC:  0.33442256864487246\n",
      "Cohens kappa: 0.2447637858205809\n",
      "Train Time(s):  5.661630051999964\n",
      "Test Time(s):  0.03441932399800862\n",
      "Classification Report : \n",
      "\n",
      "               precision    recall  f1-score   support\n",
      "\n",
      "           0       0.98      0.67      0.79    107370\n",
      "           1       0.24      0.86      0.37     12966\n",
      "\n",
      "    accuracy                           0.69    120336\n",
      "   macro avg       0.61      0.76      0.58    120336\n",
      "weighted avg       0.90      0.69      0.75    120336\n",
      "\n"
     ]
    },
    {
     "data": {
      "image/png": "[encoded data removed]",
      "text/plain": [
       "<Figure size 500x400 with 2 Axes>"
      ]
     },
     "metadata": {},
     "output_type": "display_data"
    }
   ],
   "source": [
    "# 3. Logistic Regression\n",
    "from sklearn.linear_model import LogisticRegression\n",
    "\n",
    "start = timeit.default_timer()\n",
    "\n",
    "logistic_regression = LogisticRegression(max_iter=1000)\n",
    "logistic_regression.fit(train_x, train_Y)\n",
    "\n",
    "stop = timeit.default_timer()\n",
    "train_time= stop - start\n",
    "\n",
    "start = timeit.default_timer()\n",
    "\n",
    "pred_y = logistic_regression.predict(test_x)\n",
    "\n",
    "stop = timeit.default_timer()\n",
    "test_time= stop - start\n",
    "\n",
    "performance_measures_and_classification_report(test_Y, pred_y, train_time, test_time)\n",
    "\n",
    "plot_confusion_matrix(test_Y,pred_y, 'logistic_regression_binary_class.png')"
   ]
  },
  {
   "cell_type": "code",
   "execution_count": null,
   "metadata": {},
   "outputs": [],
   "source": [
    "# 4. SVM (Support Vector Machine) Classifier\n",
    "from sklearn.svm import SVC \n",
    "\n",
    "start = timeit.default_timer()\n",
    "\n",
    "svm_linear_classifier = SVC(kernel = 'linear', C = 1)\n",
    "svm_linear_classifier.fit(train_x, train_Y) \n",
    "\n",
    "\n",
    "stop = timeit.default_timer()\n",
    "train_time= stop - start\n",
    "\n",
    "start = timeit.default_timer()\n",
    "\n",
    "pred_y = svm_linear_classifier.predict(test_x) \n",
    "\n",
    "stop = timeit.default_timer()\n",
    "test_time= stop - start\n",
    "\n",
    "performance_measures_and_classification_report(test_Y, pred_y, train_time, test_time)\n",
    "\n",
    "plot_confusion_matrix(test_Y,pred_y, 'svm_binary_class.png')"
   ]
  },
  {
   "cell_type": "code",
   "execution_count": 32,
   "metadata": {},
   "outputs": [
    {
     "name": "stdout",
     "output_type": "stream",
     "text": [
      "Confusion matrix:  [[69193  4302]\n",
      " [15828 31013]]\n",
      "Zero-one classification loss:  0.16728161148783405\n",
      "Accuracy score:  0.832718388512166\n",
      "Precision score:  0.8388817417711854\n",
      "Recall score:  0.832718388512166\n",
      "F1 Score:  0.8270657612099115\n",
      "MCC:  0.6462745598772887\n",
      "Cohens kappa: 0.631744590072167\n",
      "Train Time(s):  0.10001727800045046\n",
      "Test Time(s):  36.77710230199955\n",
      "Classification Report : \n",
      "\n",
      "               precision    recall  f1-score   support\n",
      "\n",
      "           0       0.94      0.81      0.87     85021\n",
      "           1       0.66      0.88      0.75     35315\n",
      "\n",
      "    accuracy                           0.83    120336\n",
      "   macro avg       0.80      0.85      0.81    120336\n",
      "weighted avg       0.86      0.83      0.84    120336\n",
      "\n"
     ]
    },
    {
     "data": {
      "image/png": "[encoded data removed]",
      "text/plain": [
       "<Figure size 500x400 with 2 Axes>"
      ]
     },
     "metadata": {},
     "output_type": "display_data"
    }
   ],
   "source": [
    "# 5. KNN (k-Nearest Neighbors) Classifier\n",
    "from sklearn.neighbors import KNeighborsClassifier \n",
    "\n",
    "start = timeit.default_timer()\n",
    "\n",
    "knn_classifier = KNeighborsClassifier(n_neighbors = 7)\n",
    "knn_classifier.fit(train_x, train_Y) \n",
    "\n",
    "stop = timeit.default_timer()\n",
    "train_time= stop - start\n",
    "\n",
    "start = timeit.default_timer()\n",
    "\n",
    "pred_y = knn_classifier.predict(test_x) \n",
    "\n",
    "stop = timeit.default_timer()\n",
    "test_time= stop - start\n",
    "\n",
    "performance_measures_and_classification_report(test_Y, pred_y, train_time, test_time)\n",
    "\n",
    "plot_confusion_matrix(test_Y,pred_y, 'knn_binary_class.png')"
   ]
  },
  {
   "cell_type": "code",
   "execution_count": 33,
   "metadata": {},
   "outputs": [
    {
     "name": "stdout",
     "output_type": "stream",
     "text": [
      "Requirement already satisfied: tensorflow in /opt/anaconda3/lib/python3.11/site-packages (2.16.1)\n",
      "Requirement already satisfied: absl-py>=1.0.0 in /opt/anaconda3/lib/python3.11/site-packages (from tensorflow) (2.1.0)\n",
      "Requirement already satisfied: astunparse>=1.6.0 in /opt/anaconda3/lib/python3.11/site-packages (from tensorflow) (1.6.3)\n",
      "Requirement already satisfied: flatbuffers>=23.5.26 in /opt/anaconda3/lib/python3.11/site-packages (from tensorflow) (24.3.25)\n",
      "Requirement already satisfied: gast!=0.5.0,!=0.5.1,!=0.5.2,>=0.2.1 in /opt/anaconda3/lib/python3.11/site-packages (from tensorflow) (0.5.4)\n",
      "Requirement already satisfied: google-pasta>=0.1.1 in /opt/anaconda3/lib/python3.11/site-packages (from tensorflow) (0.2.0)\n",
      "Requirement already satisfied: h5py>=3.10.0 in /opt/anaconda3/lib/python3.11/site-packages (from tensorflow) (3.11.0)\n",
      "Requirement already satisfied: libclang>=13.0.0 in /opt/anaconda3/lib/python3.11/site-packages (from tensorflow) (18.1.1)\n",
      "Requirement already satisfied: ml-dtypes~=0.3.1 in /opt/anaconda3/lib/python3.11/site-packages (from tensorflow) (0.3.2)\n",
      "Requirement already satisfied: opt-einsum>=2.3.2 in /opt/anaconda3/lib/python3.11/site-packages (from tensorflow) (3.3.0)\n",
      "Requirement already satisfied: packaging in /opt/anaconda3/lib/python3.11/site-packages (from tensorflow) (23.1)\n",
      "Requirement already satisfied: protobuf!=4.21.0,!=4.21.1,!=4.21.2,!=4.21.3,!=4.21.4,!=4.21.5,<5.0.0dev,>=3.20.3 in /opt/anaconda3/lib/python3.11/site-packages (from tensorflow) (3.20.3)\n",
      "Requirement already satisfied: requests<3,>=2.21.0 in /opt/anaconda3/lib/python3.11/site-packages (from tensorflow) (2.31.0)\n",
      "Requirement already satisfied: setuptools in /opt/anaconda3/lib/python3.11/site-packages (from tensorflow) (68.2.2)\n",
      "Requirement already satisfied: six>=1.12.0 in /opt/anaconda3/lib/python3.11/site-packages (from tensorflow) (1.16.0)\n",
      "Requirement already satisfied: termcolor>=1.1.0 in /opt/anaconda3/lib/python3.11/site-packages (from tensorflow) (2.4.0)\n",
      "Requirement already satisfied: typing-extensions>=3.6.6 in /opt/anaconda3/lib/python3.11/site-packages (from tensorflow) (4.9.0)\n",
      "Requirement already satisfied: wrapt>=1.11.0 in /opt/anaconda3/lib/python3.11/site-packages (from tensorflow) (1.14.1)\n",
      "Requirement already satisfied: grpcio<2.0,>=1.24.3 in /opt/anaconda3/lib/python3.11/site-packages (from tensorflow) (1.62.2)\n",
      "Requirement already satisfied: tensorboard<2.17,>=2.16 in /opt/anaconda3/lib/python3.11/site-packages (from tensorflow) (2.16.2)\n",
      "Requirement already satisfied: keras>=3.0.0 in /opt/anaconda3/lib/python3.11/site-packages (from tensorflow) (3.3.2)\n",
      "Requirement already satisfied: tensorflow-io-gcs-filesystem>=0.23.1 in /opt/anaconda3/lib/python3.11/site-packages (from tensorflow) (0.36.0)\n",
      "Requirement already satisfied: numpy<2.0.0,>=1.23.5 in /opt/anaconda3/lib/python3.11/site-packages (from tensorflow) (1.26.4)\n",
      "Requirement already satisfied: wheel<1.0,>=0.23.0 in /opt/anaconda3/lib/python3.11/site-packages (from astunparse>=1.6.0->tensorflow) (0.41.2)\n",
      "Requirement already satisfied: rich in /opt/anaconda3/lib/python3.11/site-packages (from keras>=3.0.0->tensorflow) (13.3.5)\n",
      "Requirement already satisfied: namex in /opt/anaconda3/lib/python3.11/site-packages (from keras>=3.0.0->tensorflow) (0.0.8)\n",
      "Requirement already satisfied: optree in /opt/anaconda3/lib/python3.11/site-packages (from keras>=3.0.0->tensorflow) (0.11.0)\n",
      "Requirement already satisfied: charset-normalizer<4,>=2 in /opt/anaconda3/lib/python3.11/site-packages (from requests<3,>=2.21.0->tensorflow) (2.0.4)\n",
      "Requirement already satisfied: idna<4,>=2.5 in /opt/anaconda3/lib/python3.11/site-packages (from requests<3,>=2.21.0->tensorflow) (3.4)\n",
      "Requirement already satisfied: urllib3<3,>=1.21.1 in /opt/anaconda3/lib/python3.11/site-packages (from requests<3,>=2.21.0->tensorflow) (2.0.7)\n",
      "Requirement already satisfied: certifi>=2017.4.17 in /opt/anaconda3/lib/python3.11/site-packages (from requests<3,>=2.21.0->tensorflow) (2024.2.2)\n",
      "Requirement already satisfied: markdown>=2.6.8 in /opt/anaconda3/lib/python3.11/site-packages (from tensorboard<2.17,>=2.16->tensorflow) (3.4.1)\n",
      "Requirement already satisfied: tensorboard-data-server<0.8.0,>=0.7.0 in /opt/anaconda3/lib/python3.11/site-packages (from tensorboard<2.17,>=2.16->tensorflow) (0.7.2)\n",
      "Requirement already satisfied: werkzeug>=1.0.1 in /opt/anaconda3/lib/python3.11/site-packages (from tensorboard<2.17,>=2.16->tensorflow) (2.2.3)\n",
      "Requirement already satisfied: MarkupSafe>=2.1.1 in /opt/anaconda3/lib/python3.11/site-packages (from werkzeug>=1.0.1->tensorboard<2.17,>=2.16->tensorflow) (2.1.3)\n",
      "Requirement already satisfied: markdown-it-py<3.0.0,>=2.2.0 in /opt/anaconda3/lib/python3.11/site-packages (from rich->keras>=3.0.0->tensorflow) (2.2.0)\n",
      "Requirement already satisfied: pygments<3.0.0,>=2.13.0 in /opt/anaconda3/lib/python3.11/site-packages (from rich->keras>=3.0.0->tensorflow) (2.15.1)\n",
      "Requirement already satisfied: mdurl~=0.1 in /opt/anaconda3/lib/python3.11/site-packages (from markdown-it-py<3.0.0,>=2.2.0->rich->keras>=3.0.0->tensorflow) (0.1.0)\n"
     ]
    }
   ],
   "source": [
    "!pip install tensorflow"
   ]
  },
  {
   "cell_type": "code",
   "execution_count": 34,
   "metadata": {},
   "outputs": [
    {
     "name": "stdout",
     "output_type": "stream",
     "text": [
      "(280783, 17)\n"
     ]
    }
   ],
   "source": [
    "print(train_x.shape)"
   ]
  },
  {
   "cell_type": "code",
   "execution_count": 35,
   "metadata": {},
   "outputs": [
    {
     "name": "stderr",
     "output_type": "stream",
     "text": [
      "2024-04-25 11:23:04.272324: I tensorflow/core/platform/cpu_feature_guard.cc:210] This TensorFlow binary is optimized to use available CPU instructions in performance-critical operations.\n",
      "To enable the following instructions: AVX2 FMA, in other operations, rebuild TensorFlow with the appropriate compiler flags.\n"
     ]
    },
    {
     "name": "stdout",
     "output_type": "stream",
     "text": [
      "Epoch 1/10\n",
      "\u001b[1m8775/8775\u001b[0m \u001b[32m━━━━━━━━━━━━━━━━━━━━\u001b[0m\u001b[37m\u001b[0m \u001b[1m12s\u001b[0m 1ms/step - accuracy: 0.7175 - loss: 0.5626 - val_accuracy: 0.7770 - val_loss: 0.4654\n",
      "Epoch 2/10\n",
      "\u001b[1m8775/8775\u001b[0m \u001b[32m━━━━━━━━━━━━━━━━━━━━\u001b[0m\u001b[37m\u001b[0m \u001b[1m11s\u001b[0m 1ms/step - accuracy: 0.7892 - loss: 0.4484 - val_accuracy: 0.7913 - val_loss: 0.4298\n",
      "Epoch 3/10\n",
      "\u001b[1m8775/8775\u001b[0m \u001b[32m━━━━━━━━━━━━━━━━━━━━\u001b[0m\u001b[37m\u001b[0m \u001b[1m11s\u001b[0m 1ms/step - accuracy: 0.7930 - loss: 0.4300 - val_accuracy: 0.7951 - val_loss: 0.4275\n",
      "Epoch 4/10\n",
      "\u001b[1m8775/8775\u001b[0m \u001b[32m━━━━━━━━━━━━━━━━━━━━\u001b[0m\u001b[37m\u001b[0m \u001b[1m11s\u001b[0m 1ms/step - accuracy: 0.7961 - loss: 0.4236 - val_accuracy: 0.7983 - val_loss: 0.4186\n",
      "Epoch 5/10\n",
      "\u001b[1m8775/8775\u001b[0m \u001b[32m━━━━━━━━━━━━━━━━━━━━\u001b[0m\u001b[37m\u001b[0m \u001b[1m11s\u001b[0m 1ms/step - accuracy: 0.7953 - loss: 0.4219 - val_accuracy: 0.7989 - val_loss: 0.4173\n",
      "Epoch 6/10\n",
      "\u001b[1m8775/8775\u001b[0m \u001b[32m━━━━━━━━━━━━━━━━━━━━\u001b[0m\u001b[37m\u001b[0m \u001b[1m11s\u001b[0m 1ms/step - accuracy: 0.7974 - loss: 0.4197 - val_accuracy: 0.7970 - val_loss: 0.4166\n",
      "Epoch 7/10\n",
      "\u001b[1m8775/8775\u001b[0m \u001b[32m━━━━━━━━━━━━━━━━━━━━\u001b[0m\u001b[37m\u001b[0m \u001b[1m13s\u001b[0m 1ms/step - accuracy: 0.7960 - loss: 0.4198 - val_accuracy: 0.7963 - val_loss: 0.4149\n",
      "Epoch 8/10\n",
      "\u001b[1m8775/8775\u001b[0m \u001b[32m━━━━━━━━━━━━━━━━━━━━\u001b[0m\u001b[37m\u001b[0m \u001b[1m13s\u001b[0m 1ms/step - accuracy: 0.7959 - loss: 0.4184 - val_accuracy: 0.8004 - val_loss: 0.4138\n",
      "Epoch 9/10\n",
      "\u001b[1m8775/8775\u001b[0m \u001b[32m━━━━━━━━━━━━━━━━━━━━\u001b[0m\u001b[37m\u001b[0m \u001b[1m10s\u001b[0m 1ms/step - accuracy: 0.7980 - loss: 0.4158 - val_accuracy: 0.8001 - val_loss: 0.4131\n",
      "Epoch 10/10\n",
      "\u001b[1m8775/8775\u001b[0m \u001b[32m━━━━━━━━━━━━━━━━━━━━\u001b[0m\u001b[37m\u001b[0m \u001b[1m9s\u001b[0m 1ms/step - accuracy: 0.7985 - loss: 0.4150 - val_accuracy: 0.7984 - val_loss: 0.4137\n",
      "\u001b[1m3761/3761\u001b[0m \u001b[32m━━━━━━━━━━━━━━━━━━━━\u001b[0m\u001b[37m\u001b[0m \u001b[1m2s\u001b[0m 619us/step\n",
      "Confusion matrix:  [[71340  2155]\n",
      " [22106 24735]]\n",
      "Zero-one classification loss:  0.20161049062624647\n",
      "Accuracy score:  0.7983895093737535\n",
      "Precision score:  0.8243235407234205\n",
      "Recall score:  0.7983895093737535\n",
      "F1 Score:  0.7831596051368234\n",
      "MCC:  0.5837696996576975\n",
      "Cohens kappa: 0.5404856051910534\n",
      "Train Time(s):  110.26447345700217\n",
      "Test Time(s):  4.078849953999452\n",
      "Classification Report : \n",
      "\n",
      "               precision    recall  f1-score   support\n",
      "\n",
      "           0       0.97      0.76      0.85     93446\n",
      "           1       0.53      0.92      0.67     26890\n",
      "\n",
      "    accuracy                           0.80    120336\n",
      "   macro avg       0.75      0.84      0.76    120336\n",
      "weighted avg       0.87      0.80      0.81    120336\n",
      "\n"
     ]
    },
    {
     "data": {
      "image/png": "[encoded data removed]",
      "text/plain": [
       "<Figure size 500x400 with 2 Axes>"
      ]
     },
     "metadata": {},
     "output_type": "display_data"
    }
   ],
   "source": [
    "# 6. Keras\n",
    "import tensorflow as tf\n",
    "from tensorflow import keras\n",
    "from tensorflow.keras import layers, models\n",
    "from sklearn.preprocessing import LabelEncoder\n",
    "\n",
    "start = timeit.default_timer()\n",
    "\n",
    "model = models.Sequential([\n",
    "    layers.Dense(128, activation='relu', input_shape=(17,)),\n",
    "    layers.Dense(1, activation='sigmoid')\n",
    "])\n",
    "\n",
    "model.compile(optimizer='adam',\n",
    "              loss='binary_crossentropy',\n",
    "              metrics=['accuracy'])\n",
    "\n",
    "model.fit(train_x, train_Y, epochs=10, validation_data=(test_x, test_Y))\n",
    "\n",
    "stop = timeit.default_timer()\n",
    "train_time= stop - start\n",
    "\n",
    "start = timeit.default_timer()\n",
    "\n",
    "pred_y = model.predict(test_x)\n",
    "\n",
    "stop = timeit.default_timer()\n",
    "test_time= stop - start\n",
    "\n",
    "pred_y = (pred_y > 0.5).astype(int)\n",
    "\n",
    "performance_measures_and_classification_report(test_Y, pred_y, train_time, test_time)\n",
    "\n",
    "plot_confusion_matrix(test_Y,pred_y, 'keras_binary_class.png')"
   ]
  },
  {
   "cell_type": "code",
   "execution_count": 36,
   "metadata": {},
   "outputs": [
    {
     "name": "stdout",
     "output_type": "stream",
     "text": [
      "Confusion matrix:  [[69920  3575]\n",
      " [12060 34781]]\n",
      "Zero-one classification loss:  0.12992786863449013\n",
      "Accuracy score:  0.8700721313655099\n",
      "Precision score:  0.8738729013172755\n",
      "Recall score:  0.8700721313655099\n",
      "F1 Score:  0.8671475837881542\n",
      "MCC:  0.7260429239033553\n",
      "Cohens kappa: 0.7174570461742344\n",
      "Train Time(s):  521.8054091459999\n",
      "Test Time(s):  26.578860886002076\n",
      "Classification Report : \n",
      "\n",
      "               precision    recall  f1-score   support\n",
      "\n",
      "           0       0.95      0.85      0.90     81980\n",
      "           1       0.74      0.91      0.82     38356\n",
      "\n",
      "    accuracy                           0.87    120336\n",
      "   macro avg       0.85      0.88      0.86    120336\n",
      "weighted avg       0.88      0.87      0.87    120336\n",
      "\n"
     ]
    },
    {
     "data": {
      "image/png": "[encoded data removed]",
      "text/plain": [
       "<Figure size 500x400 with 2 Axes>"
      ]
     },
     "metadata": {},
     "output_type": "display_data"
    }
   ],
   "source": [
    "# 7. Random Forest\n",
    "from sklearn.ensemble import RandomForestClassifier\n",
    "from sklearn.ensemble import RandomForestClassifier\n",
    "\n",
    "start = timeit.default_timer()\n",
    "\n",
    "rf_classifier = RandomForestClassifier(n_estimators = 1000, random_state=10)\n",
    "rf_classifier.fit(train_x, train_Y)\n",
    "\n",
    "stop = timeit.default_timer()\n",
    "train_time= stop - start\n",
    "\n",
    "start = timeit.default_timer()\n",
    "\n",
    "pred_y = rf_classifier.predict(test_x)\n",
    "\n",
    "stop = timeit.default_timer()\n",
    "test_time= stop - start\n",
    "\n",
    "performance_measures_and_classification_report(test_Y, pred_y, train_time, test_time)\n",
    "\n",
    "plot_confusion_matrix(test_Y,pred_y, 'random_forest_binary_class.png')"
   ]
  }
 ],
 "metadata": {
  "colab": {
   "collapsed_sections": [],
   "name": "Copy of RF on IoT Combined Dataset.ipynb",
   "provenance": []
  },
  "kernelspec": {
   "display_name": "Python 3 (ipykernel)",
   "language": "python",
   "name": "python3"
  },
  "language_info": {
   "codemirror_mode": {
    "name": "ipython",
    "version": 3
   },
   "file_extension": ".py",
   "mimetype": "text/x-python",
   "name": "python",
   "nbconvert_exporter": "python",
   "pygments_lexer": "ipython3",
   "version": "3.11.7"
  },
  "widgets": {
   "application/vnd.jupyter.widget-state+json": {
    "state": {},
    "version_major": 2,
    "version_minor": 0
   }
  }
 },
 "nbformat": 4,
 "nbformat_minor": 4
}
